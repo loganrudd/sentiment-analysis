{
 "cells": [
  {
   "cell_type": "code",
   "execution_count": 1,
   "metadata": {},
   "outputs": [],
   "source": [
    "import os\n",
    "import re\n",
    "import csv\n",
    "import pandas as pd\n",
    "from urllib.request import urlretrieve\n",
    "import requests\n",
    "from sklearn.model_selection import train_test_split\n",
    "from tqdm import tqdm_notebook as tqdm\n",
    "import numpy as np\n",
    "import seaborn as sns\n",
    "import matplotlib.pyplot as plt\n",
    "import operator\n",
    "\n",
    "pd.options.display.max_colwidth = 200"
   ]
  },
  {
   "cell_type": "markdown",
   "metadata": {},
   "source": [
    "## Data Wrangling\n",
    "\n",
    "First let's download and scrape our data and then we can begin preprocessing and exploring it."
   ]
  },
  {
   "cell_type": "code",
   "execution_count": 2,
   "metadata": {},
   "outputs": [],
   "source": [
    "# Downloads necessary data files if they don't already exist in '../data/raw/'\n",
    "\n",
    "# tweets with positive and negative labels\n",
    "neg_tweets_url = 'https://raw.githubusercontent.com/garnachod/TwitterSentimentDataset/master/tweets_neg_clean.txt'\n",
    "pos_tweets_url = 'https://raw.githubusercontent.com/garnachod/TwitterSentimentDataset/master/tweets_pos_clean.txt'\n",
    "\n",
    "# unlabeled tweets\n",
    "cln_tweets_url = 'https://raw.githubusercontent.com/garnachod/TwitterSentimentDataset/master/tweets_clean.txt'\n",
    "\n",
    "# lemmatization list\n",
    "lemmatization_url = 'https://raw.githubusercontent.com/michmech/lemmatization-lists/master/lemmatization-es.txt'\n",
    "\n",
    "# retrieve raw tweets and lemmatization data if it doesn't already exist\n",
    "if not os.path.isfile('../data/raw/tweets_pos_clean.txt'):\n",
    "    urlretrieve(pos_tweets_url, '../data/raw/tweets_pos_clean.txt')\n",
    "if not os.path.isfile('../data/raw/tweets_neg_clean.txt'):\n",
    "    urlretrieve(neg_tweets_url, '../data/raw/tweets_neg_clean.txt')\n",
    "if not os.path.isfile('../data/raw/tweets_clean.txt'):\n",
    "    urlretrieve(cln_tweets_url, '../data/raw/tweets_clean.txt')\n",
    "if not os.path.isfile('../data/raw/lemmatization-es.txt'):\n",
    "    urlretrieve(lemmatization_url, '../data/raw/lemmatization-es.txt')"
   ]
  },
  {
   "cell_type": "code",
   "execution_count": 3,
   "metadata": {},
   "outputs": [],
   "source": [
    "# scrape wiki page for most top 500 common spanish words and write to .txt file\n",
    "\n",
    "# most frequent spanish words wiki page\n",
    "top_spanish_words_url = 'https://es.wiktionary.org/wiki/Wikcionario:Frecuentes-(1-1000)-Subt%C3%ADtulos_de_pel%C3%ADculas'\n",
    "top_spanish_words = requests.get(top_spanish_words_url).text\n",
    "tables = pd.read_html(top_spanish_words, header=0,\n",
    "                      keep_default_na=False)\n",
    "common_words_table = tables[0]\n",
    "\n",
    "top_500_common_words_list = common_words_table['palabra'][0:500].tolist()\n",
    "with open('../data/processed/500_most_common_words.txt.txt', 'w') as f:\n",
    "    for word in top_500_common_words_list:\n",
    "        f.write(str(word) + '\\n')"
   ]
  },
  {
   "cell_type": "markdown",
   "metadata": {},
   "source": [
    "## Standardize Tweets - Remove URL's, hashtags, mentions, emojis, and empty tweets"
   ]
  },
  {
   "cell_type": "code",
   "execution_count": 4,
   "metadata": {},
   "outputs": [],
   "source": [
    "def standardize_text(df, text_field):\n",
    "    df=df.copy()\n",
    "    \n",
    "    def alpha_num_filter(text):\n",
    "        '''filters out characters that are not alpha-numeric from text and splits text into list of words'''\n",
    "        return re.findall(('(\\d+|\\w+)'), text)\n",
    "    # remove http links \n",
    "    df[text_field] = df[text_field].str.replace(r\"http\\S+\", \"\")\n",
    "    df[text_field] = df[text_field].str.replace(r\"http\", \"\")\n",
    "    df[text_field] = df[text_field].str.replace(r\"@\\S+\", \"\")\n",
    "    df[text_field] = df[text_field].str.replace(r\"#\\S+\", \"\")\n",
    "    \n",
    "    # remove emojis such as ':)', ':p', ':D' and split tweet into a list of words\n",
    "    df[text_field] = df[text_field].str.replace(r\":\\S+\", \"\")\n",
    "    df[text_field] = df[text_field].str.lower()\n",
    "    df[text_field] = df[text_field].apply(alpha_num_filter)\n",
    "    df[text_field] = df[text_field].apply(lambda x: ' '.join(x))\n",
    "    \n",
    "    return df"
   ]
  },
  {
   "cell_type": "code",
   "execution_count": 5,
   "metadata": {},
   "outputs": [
    {
     "data": {
      "text/html": [
       "<div>\n",
       "<style scoped>\n",
       "    .dataframe tbody tr th:only-of-type {\n",
       "        vertical-align: middle;\n",
       "    }\n",
       "\n",
       "    .dataframe tbody tr th {\n",
       "        vertical-align: top;\n",
       "    }\n",
       "\n",
       "    .dataframe thead th {\n",
       "        text-align: right;\n",
       "    }\n",
       "</style>\n",
       "<table border=\"1\" class=\"dataframe\">\n",
       "  <thead>\n",
       "    <tr style=\"text-align: right;\">\n",
       "      <th></th>\n",
       "      <th>tweet</th>\n",
       "    </tr>\n",
       "  </thead>\n",
       "  <tbody>\n",
       "    <tr>\n",
       "      <th>0</th>\n",
       "      <td>¿Quieres saber cómo hacer una aplicación para Android Wear? Te lo explicamos &amp;gt; http://t.co/IjgCIkigvm http://t.co/tUZhU3wrhx</td>\n",
       "    </tr>\n",
       "    <tr>\n",
       "      <th>1</th>\n",
       "      <td>a veer que tal :D http://t.co/LzUOezEcYS</td>\n",
       "    </tr>\n",
       "    <tr>\n",
       "      <th>2</th>\n",
       "      <td>jajaja :D como les encanta trolear cuando alguno no se conecta :P jajaja https://t.co/CaAM5PnhwP</td>\n",
       "    </tr>\n",
       "    <tr>\n",
       "      <th>3</th>\n",
       "      <td>Mirando los Simpson :D</td>\n",
       "    </tr>\n",
       "    <tr>\n",
       "      <th>4</th>\n",
       "      <td>Tu teléfono Android permanecerá desbloqueado mientras lo lleves encima - http://t.co/lIzBXxBLSJ http://t.co/mDgEZhaudV</td>\n",
       "    </tr>\n",
       "  </tbody>\n",
       "</table>\n",
       "</div>"
      ],
      "text/plain": [
       "                                                                                                                             tweet\n",
       "0  ¿Quieres saber cómo hacer una aplicación para Android Wear? Te lo explicamos &gt; http://t.co/IjgCIkigvm http://t.co/tUZhU3wrhx\n",
       "1                                                                                         a veer que tal :D http://t.co/LzUOezEcYS\n",
       "2                                 jajaja :D como les encanta trolear cuando alguno no se conecta :P jajaja https://t.co/CaAM5PnhwP\n",
       "3                                                                                                           Mirando los Simpson :D\n",
       "4           Tu teléfono Android permanecerá desbloqueado mientras lo lleves encima - http://t.co/lIzBXxBLSJ http://t.co/mDgEZhaudV"
      ]
     },
     "execution_count": 5,
     "metadata": {},
     "output_type": "execute_result"
    }
   ],
   "source": [
    "# read and display raw unlabeled Tweets\n",
    "df_unlabeled_tweets = pd.read_fwf('../data/raw/tweets_clean.txt', header=None)\n",
    "df_unlabeled_tweets.rename(columns={0:'tweet'}, inplace=True)\n",
    "df_unlabeled_tweets.head()"
   ]
  },
  {
   "cell_type": "code",
   "execution_count": 6,
   "metadata": {},
   "outputs": [
    {
     "name": "stdout",
     "output_type": "stream",
     "text": [
      "<class 'pandas.core.frame.DataFrame'>\n",
      "RangeIndex: 70734 entries, 0 to 70733\n",
      "Data columns (total 1 columns):\n",
      "tweet    70734 non-null object\n",
      "dtypes: object(1)\n",
      "memory usage: 552.7+ KB\n"
     ]
    }
   ],
   "source": [
    "df_unlabeled_tweets.info()"
   ]
  },
  {
   "cell_type": "code",
   "execution_count": 7,
   "metadata": {},
   "outputs": [
    {
     "data": {
      "text/html": [
       "<div>\n",
       "<style scoped>\n",
       "    .dataframe tbody tr th:only-of-type {\n",
       "        vertical-align: middle;\n",
       "    }\n",
       "\n",
       "    .dataframe tbody tr th {\n",
       "        vertical-align: top;\n",
       "    }\n",
       "\n",
       "    .dataframe thead th {\n",
       "        text-align: right;\n",
       "    }\n",
       "</style>\n",
       "<table border=\"1\" class=\"dataframe\">\n",
       "  <thead>\n",
       "    <tr style=\"text-align: right;\">\n",
       "      <th></th>\n",
       "      <th>tweet</th>\n",
       "    </tr>\n",
       "  </thead>\n",
       "  <tbody>\n",
       "    <tr>\n",
       "      <th>0</th>\n",
       "      <td>quieres saber cómo hacer una aplicación para android wear te lo explicamos gt</td>\n",
       "    </tr>\n",
       "    <tr>\n",
       "      <th>1</th>\n",
       "      <td>a veer que tal</td>\n",
       "    </tr>\n",
       "    <tr>\n",
       "      <th>2</th>\n",
       "      <td>jajaja como les encanta trolear cuando alguno no se conecta jajaja</td>\n",
       "    </tr>\n",
       "    <tr>\n",
       "      <th>3</th>\n",
       "      <td>mirando los simpson</td>\n",
       "    </tr>\n",
       "    <tr>\n",
       "      <th>4</th>\n",
       "      <td>tu teléfono android permanecerá desbloqueado mientras lo lleves encima</td>\n",
       "    </tr>\n",
       "  </tbody>\n",
       "</table>\n",
       "</div>"
      ],
      "text/plain": [
       "                                                                           tweet\n",
       "0  quieres saber cómo hacer una aplicación para android wear te lo explicamos gt\n",
       "1                                                                 a veer que tal\n",
       "2             jajaja como les encanta trolear cuando alguno no se conecta jajaja\n",
       "3                                                            mirando los simpson\n",
       "4         tu teléfono android permanecerá desbloqueado mientras lo lleves encima"
      ]
     },
     "execution_count": 7,
     "metadata": {},
     "output_type": "execute_result"
    }
   ],
   "source": [
    "# standardize and display unlabeled Tweets\n",
    "df_unlabeled_processed = standardize_text(df_unlabeled_tweets, 'tweet')\n",
    "df_unlabeled_processed.head()"
   ]
  },
  {
   "cell_type": "code",
   "execution_count": 8,
   "metadata": {},
   "outputs": [
    {
     "data": {
      "text/html": [
       "<div>\n",
       "<style scoped>\n",
       "    .dataframe tbody tr th:only-of-type {\n",
       "        vertical-align: middle;\n",
       "    }\n",
       "\n",
       "    .dataframe tbody tr th {\n",
       "        vertical-align: top;\n",
       "    }\n",
       "\n",
       "    .dataframe thead th {\n",
       "        text-align: right;\n",
       "    }\n",
       "</style>\n",
       "<table border=\"1\" class=\"dataframe\">\n",
       "  <thead>\n",
       "    <tr style=\"text-align: right;\">\n",
       "      <th></th>\n",
       "      <th>tweet</th>\n",
       "      <th>sentiment</th>\n",
       "    </tr>\n",
       "  </thead>\n",
       "  <tbody>\n",
       "    <tr>\n",
       "      <th>0</th>\n",
       "      <td>Se imaginan a los chicos agradeciendo por el premio con cara de orgullo?.Que bonito :).#MTVHottest One Direction</td>\n",
       "      <td>positive</td>\n",
       "    </tr>\n",
       "    <tr>\n",
       "      <th>1</th>\n",
       "      <td>Eclesiastes4:9-12 ♡ Siempre, promesa :)  https://t.co/XbrYsqa43T</td>\n",
       "      <td>positive</td>\n",
       "    </tr>\n",
       "    <tr>\n",
       "      <th>2</th>\n",
       "      <td>@pedroj_ramirez Qué saborío, PJ. ya no compartes ni un gintonic con nosotros. :)</td>\n",
       "      <td>positive</td>\n",
       "    </tr>\n",
       "    <tr>\n",
       "      <th>3</th>\n",
       "      <td>Buenos dias para todos. Feliz inicio de semana. :-) http://t.co/svMgEcaxLr</td>\n",
       "      <td>positive</td>\n",
       "    </tr>\n",
       "    <tr>\n",
       "      <th>4</th>\n",
       "      <td>@pepedom @bquintero Gracias! No es así, deja claro que es el 100% de aquí http://t.co/cD3VFu7hnH }:)</td>\n",
       "      <td>positive</td>\n",
       "    </tr>\n",
       "  </tbody>\n",
       "</table>\n",
       "</div>"
      ],
      "text/plain": [
       "                                                                                                              tweet  \\\n",
       "0  Se imaginan a los chicos agradeciendo por el premio con cara de orgullo?.Que bonito :).#MTVHottest One Direction   \n",
       "1                                                  Eclesiastes4:9-12 ♡ Siempre, promesa :)  https://t.co/XbrYsqa43T   \n",
       "2                                  @pedroj_ramirez Qué saborío, PJ. ya no compartes ni un gintonic con nosotros. :)   \n",
       "3                                        Buenos dias para todos. Feliz inicio de semana. :-) http://t.co/svMgEcaxLr   \n",
       "4              @pepedom @bquintero Gracias! No es así, deja claro que es el 100% de aquí http://t.co/cD3VFu7hnH }:)   \n",
       "\n",
       "  sentiment  \n",
       "0  positive  \n",
       "1  positive  \n",
       "2  positive  \n",
       "3  positive  \n",
       "4  positive  "
      ]
     },
     "execution_count": 8,
     "metadata": {},
     "output_type": "execute_result"
    }
   ],
   "source": [
    "# read positive and negative Tweets into Pandas DF and concatenate into a single DF\n",
    "df_pos_tweets = pd.read_fwf('../data/raw/tweets_pos_clean.txt', header=None)\n",
    "df_neg_tweets = pd.read_fwf('../data/raw/tweets_neg_clean.txt', header=None)\n",
    "df_pos_tweets['sentiment'] = 'positive'\n",
    "df_neg_tweets['sentiment'] = 'negative'\n",
    "df_labeled_tweets = pd.concat([df_pos_tweets, df_neg_tweets], ignore_index=True)\n",
    "df_labeled_tweets.rename(columns={0:'tweet'}, inplace=True)\n",
    "df_labeled_tweets.head()"
   ]
  },
  {
   "cell_type": "code",
   "execution_count": 9,
   "metadata": {},
   "outputs": [
    {
     "name": "stdout",
     "output_type": "stream",
     "text": [
      "Number of respective \"negative\" and \"positive\" Tweets:\n",
      "negative    122216\n",
      "positive     55359\n",
      "Name: sentiment, dtype: int64\n"
     ]
    }
   ],
   "source": [
    "print('Number of respective \"negative\" and \"positive\" Tweets:')\n",
    "print(df_labeled_tweets['sentiment'].value_counts())"
   ]
  },
  {
   "cell_type": "code",
   "execution_count": 10,
   "metadata": {},
   "outputs": [
    {
     "data": {
      "text/html": [
       "<div>\n",
       "<style scoped>\n",
       "    .dataframe tbody tr th:only-of-type {\n",
       "        vertical-align: middle;\n",
       "    }\n",
       "\n",
       "    .dataframe tbody tr th {\n",
       "        vertical-align: top;\n",
       "    }\n",
       "\n",
       "    .dataframe thead th {\n",
       "        text-align: right;\n",
       "    }\n",
       "</style>\n",
       "<table border=\"1\" class=\"dataframe\">\n",
       "  <thead>\n",
       "    <tr style=\"text-align: right;\">\n",
       "      <th></th>\n",
       "      <th>tweet</th>\n",
       "      <th>sentiment</th>\n",
       "    </tr>\n",
       "  </thead>\n",
       "  <tbody>\n",
       "    <tr>\n",
       "      <th>0</th>\n",
       "      <td>se imaginan a los chicos agradeciendo por el premio con cara de orgullo que bonito one direction</td>\n",
       "      <td>positive</td>\n",
       "    </tr>\n",
       "    <tr>\n",
       "      <th>1</th>\n",
       "      <td>eclesiastes4 siempre promesa</td>\n",
       "      <td>positive</td>\n",
       "    </tr>\n",
       "    <tr>\n",
       "      <th>2</th>\n",
       "      <td>qué saborío pj ya no compartes ni un gintonic con nosotros</td>\n",
       "      <td>positive</td>\n",
       "    </tr>\n",
       "    <tr>\n",
       "      <th>3</th>\n",
       "      <td>buenos dias para todos feliz inicio de semana</td>\n",
       "      <td>positive</td>\n",
       "    </tr>\n",
       "    <tr>\n",
       "      <th>4</th>\n",
       "      <td>gracias no es así deja claro que es el 100 de aquí</td>\n",
       "      <td>positive</td>\n",
       "    </tr>\n",
       "  </tbody>\n",
       "</table>\n",
       "</div>"
      ],
      "text/plain": [
       "                                                                                              tweet  \\\n",
       "0  se imaginan a los chicos agradeciendo por el premio con cara de orgullo que bonito one direction   \n",
       "1                                                                      eclesiastes4 siempre promesa   \n",
       "2                                        qué saborío pj ya no compartes ni un gintonic con nosotros   \n",
       "3                                                     buenos dias para todos feliz inicio de semana   \n",
       "4                                                gracias no es así deja claro que es el 100 de aquí   \n",
       "\n",
       "  sentiment  \n",
       "0  positive  \n",
       "1  positive  \n",
       "2  positive  \n",
       "3  positive  \n",
       "4  positive  "
      ]
     },
     "execution_count": 10,
     "metadata": {},
     "output_type": "execute_result"
    }
   ],
   "source": [
    "# standardize and display labeled Tweets\n",
    "df_labeled_processed = standardize_text(df_labeled_tweets, 'tweet')\n",
    "df_labeled_processed.head()"
   ]
  },
  {
   "cell_type": "code",
   "execution_count": 11,
   "metadata": {},
   "outputs": [
    {
     "name": "stdout",
     "output_type": "stream",
     "text": [
      "<class 'pandas.core.frame.DataFrame'>\n",
      "RangeIndex: 177575 entries, 0 to 177574\n",
      "Data columns (total 2 columns):\n",
      "tweet        177575 non-null object\n",
      "sentiment    177575 non-null object\n",
      "dtypes: object(2)\n",
      "memory usage: 2.7+ MB\n"
     ]
    }
   ],
   "source": [
    "df_labeled_processed.info()"
   ]
  },
  {
   "cell_type": "markdown",
   "metadata": {},
   "source": [
    "Let's take a look at a histogram of the length of the tweets in words for each class, 'positive' and 'negative' to understand them a little better."
   ]
  },
  {
   "cell_type": "code",
   "execution_count": 47,
   "metadata": {},
   "outputs": [],
   "source": [
    "def plot_hists(df, column, c_bins=50, f_scale='linear'):\n",
    "    '''Plots a histogram for each disposition (confirmed (c)/false positive (f)) of a given dataframe and column.'''\n",
    "    bins = np.arange(0,max(df['number of words'].tolist())) - 0.5\n",
    "    fig = plt.figure(figsize=(20, 8)) # create figure\n",
    "    # plt.subplots\n",
    "    axc = fig.add_subplot(1, 2, 1) # add subplot 1 (1 row, 2 columns, first plot)\n",
    "    axf = fig.add_subplot(1, 2, 2)\n",
    "\n",
    "    df[df['sentiment'] == 'positive'][column].plot(kind='hist', bins=bins, ax=axc, ec='black')\n",
    "    \n",
    "    axc.set_xticks(np.array(range(0,max(df['number of words'].tolist()))))\n",
    "    axc.set_title('sentiment = positive')\n",
    "    axc.set_xlabel(column)\n",
    "    axc.set_ylabel('Number of Tweets')\n",
    "    axc.set_xlim(left=-0.5,right=max(df['number of words'].tolist()))\n",
    "\n",
    "    df[df['sentiment'] == 'negative'][column].plot(kind='hist', bins=bins, ax=axf, ec='black')\n",
    "    \n",
    "    axf.set_xticks(np.array(range(0,max(df['number of words'].tolist()))))\n",
    "    axf.set_title('sentiment = negative')\n",
    "    axf.set_xlabel(column)\n",
    "    axf.set_ylabel('Number of Tweets')\n",
    "    axf.set_xlim(left=-0.5,right=max(df['number of words'].tolist()))"
   ]
  },
  {
   "cell_type": "code",
   "execution_count": 13,
   "metadata": {},
   "outputs": [],
   "source": [
    "tweet_lengths = [len(tweet) for tweet in df_labeled_processed['tweet'].apply(lambda x: x.split())]\n",
    "df_labeled_processed['number of words'] = tweet_lengths"
   ]
  },
  {
   "cell_type": "code",
   "execution_count": 14,
   "metadata": {},
   "outputs": [
    {
     "data": {
      "image/png": "[encoded data removed]",
      "text/plain": [
       "<Figure size 1440x432 with 2 Axes>"
      ]
     },
     "metadata": {
      "needs_background": "light"
     },
     "output_type": "display_data"
    }
   ],
   "source": [
    "plot_hists(df_labeled_processed, 'number of words')"
   ]
  },
  {
   "cell_type": "markdown",
   "metadata": {},
   "source": [
    "Looks like there are some tweets that don't contain any words, so let's go ahead and delete those."
   ]
  },
  {
   "cell_type": "code",
   "execution_count": 15,
   "metadata": {},
   "outputs": [
    {
     "name": "stdout",
     "output_type": "stream",
     "text": [
      "Removed 59 empty Tweets.\n"
     ]
    }
   ],
   "source": [
    "# make list of empty tweets\n",
    "empty_tweets = len(df_labeled_processed[df_labeled_processed['number of words'] == 0])\n",
    "\n",
    "# convert empty tweets to NaN and drop from df\n",
    "df_labeled_processed['tweet'].replace('', np.nan, inplace=True)\n",
    "df_labeled_processed.dropna(subset=['tweet'], inplace=True)\n",
    "\n",
    "print('Removed {} empty Tweets.'.format(empty_tweets))"
   ]
  },
  {
   "cell_type": "markdown",
   "metadata": {},
   "source": [
    "Let's take a look at the outliers, tweets that contain the most and least words."
   ]
  },
  {
   "cell_type": "code",
   "execution_count": 16,
   "metadata": {},
   "outputs": [
    {
     "data": {
      "text/html": [
       "<div>\n",
       "<style scoped>\n",
       "    .dataframe tbody tr th:only-of-type {\n",
       "        vertical-align: middle;\n",
       "    }\n",
       "\n",
       "    .dataframe tbody tr th {\n",
       "        vertical-align: top;\n",
       "    }\n",
       "\n",
       "    .dataframe thead th {\n",
       "        text-align: right;\n",
       "    }\n",
       "</style>\n",
       "<table border=\"1\" class=\"dataframe\">\n",
       "  <thead>\n",
       "    <tr style=\"text-align: right;\">\n",
       "      <th></th>\n",
       "      <th>tweet</th>\n",
       "      <th>sentiment</th>\n",
       "      <th>number of words</th>\n",
       "    </tr>\n",
       "  </thead>\n",
       "  <tbody>\n",
       "    <tr>\n",
       "      <th>24948</th>\n",
       "      <td>tini lt 3 lt 3 lt 3 lt 3 lt 3 lt 3 lt 3 lt 3 lt 3 lt 3 lt 3 lt 3 lt 3 lt 3 lt 3 lt 3 lt 3 lt 3 lt 3 lt 3 lt 3 lt 3 lt</td>\n",
       "      <td>positive</td>\n",
       "      <td>46</td>\n",
       "    </tr>\n",
       "    <tr>\n",
       "      <th>4876</th>\n",
       "      <td>no le voy a hablar no le voy a hablar no le voy a hablar no le voy a hablar no le voy a hablar no le voy a hablar no le voy a hablar hola</td>\n",
       "      <td>positive</td>\n",
       "      <td>36</td>\n",
       "    </tr>\n",
       "    <tr>\n",
       "      <th>49495</th>\n",
       "      <td>no le voy a hablar no le voy a hablar no le voy a hablar no le voy a hablar no le voy a hablar no le voy a hablar no le voy a hablar hola</td>\n",
       "      <td>positive</td>\n",
       "      <td>36</td>\n",
       "    </tr>\n",
       "    <tr>\n",
       "      <th>136224</th>\n",
       "      <td>me voy a dormir ya que van a dar las 5 y mañana me levantaré a las 2 y a ver si me voy a quedar sin comer como me ha pasado otras veces</td>\n",
       "      <td>negative</td>\n",
       "      <td>34</td>\n",
       "    </tr>\n",
       "    <tr>\n",
       "      <th>11780</th>\n",
       "      <td>un d a tendr el gusto de decir q eh visto la belleza de un leopardo eh tocado el pelaje de un tigre y eh o do el llanto de un le n</td>\n",
       "      <td>positive</td>\n",
       "      <td>33</td>\n",
       "    </tr>\n",
       "  </tbody>\n",
       "</table>\n",
       "</div>"
      ],
      "text/plain": [
       "                                                                                                                                            tweet  \\\n",
       "24948                       tini lt 3 lt 3 lt 3 lt 3 lt 3 lt 3 lt 3 lt 3 lt 3 lt 3 lt 3 lt 3 lt 3 lt 3 lt 3 lt 3 lt 3 lt 3 lt 3 lt 3 lt 3 lt 3 lt   \n",
       "4876    no le voy a hablar no le voy a hablar no le voy a hablar no le voy a hablar no le voy a hablar no le voy a hablar no le voy a hablar hola   \n",
       "49495   no le voy a hablar no le voy a hablar no le voy a hablar no le voy a hablar no le voy a hablar no le voy a hablar no le voy a hablar hola   \n",
       "136224    me voy a dormir ya que van a dar las 5 y mañana me levantaré a las 2 y a ver si me voy a quedar sin comer como me ha pasado otras veces   \n",
       "11780          un d a tendr el gusto de decir q eh visto la belleza de un leopardo eh tocado el pelaje de un tigre y eh o do el llanto de un le n   \n",
       "\n",
       "       sentiment  number of words  \n",
       "24948   positive               46  \n",
       "4876    positive               36  \n",
       "49495   positive               36  \n",
       "136224  negative               34  \n",
       "11780   positive               33  "
      ]
     },
     "execution_count": 16,
     "metadata": {},
     "output_type": "execute_result"
    }
   ],
   "source": [
    "df_labeled_processed.sort_values(by=['number of words'], ascending=False).head()"
   ]
  },
  {
   "cell_type": "code",
   "execution_count": 17,
   "metadata": {},
   "outputs": [
    {
     "data": {
      "text/html": [
       "<div>\n",
       "<style scoped>\n",
       "    .dataframe tbody tr th:only-of-type {\n",
       "        vertical-align: middle;\n",
       "    }\n",
       "\n",
       "    .dataframe tbody tr th {\n",
       "        vertical-align: top;\n",
       "    }\n",
       "\n",
       "    .dataframe thead th {\n",
       "        text-align: right;\n",
       "    }\n",
       "</style>\n",
       "<table border=\"1\" class=\"dataframe\">\n",
       "  <thead>\n",
       "    <tr style=\"text-align: right;\">\n",
       "      <th></th>\n",
       "      <th>tweet</th>\n",
       "      <th>sentiment</th>\n",
       "      <th>number of words</th>\n",
       "    </tr>\n",
       "  </thead>\n",
       "  <tbody>\n",
       "    <tr>\n",
       "      <th>38</th>\n",
       "      <td>buenas</td>\n",
       "      <td>positive</td>\n",
       "      <td>1</td>\n",
       "    </tr>\n",
       "    <tr>\n",
       "      <th>52</th>\n",
       "      <td>severo</td>\n",
       "      <td>positive</td>\n",
       "      <td>1</td>\n",
       "    </tr>\n",
       "    <tr>\n",
       "      <th>57</th>\n",
       "      <td>nochesitaaaaaa</td>\n",
       "      <td>positive</td>\n",
       "      <td>1</td>\n",
       "    </tr>\n",
       "    <tr>\n",
       "      <th>71</th>\n",
       "      <td>bieeeennn</td>\n",
       "      <td>positive</td>\n",
       "      <td>1</td>\n",
       "    </tr>\n",
       "    <tr>\n",
       "      <th>147</th>\n",
       "      <td>futbol</td>\n",
       "      <td>positive</td>\n",
       "      <td>1</td>\n",
       "    </tr>\n",
       "    <tr>\n",
       "      <th>219</th>\n",
       "      <td>buenas</td>\n",
       "      <td>positive</td>\n",
       "      <td>1</td>\n",
       "    </tr>\n",
       "    <tr>\n",
       "      <th>228</th>\n",
       "      <td>hoam</td>\n",
       "      <td>positive</td>\n",
       "      <td>1</td>\n",
       "    </tr>\n",
       "    <tr>\n",
       "      <th>264</th>\n",
       "      <td>marchando</td>\n",
       "      <td>positive</td>\n",
       "      <td>1</td>\n",
       "    </tr>\n",
       "    <tr>\n",
       "      <th>271</th>\n",
       "      <td>bina</td>\n",
       "      <td>positive</td>\n",
       "      <td>1</td>\n",
       "    </tr>\n",
       "    <tr>\n",
       "      <th>275</th>\n",
       "      <td>gracias</td>\n",
       "      <td>positive</td>\n",
       "      <td>1</td>\n",
       "    </tr>\n",
       "    <tr>\n",
       "      <th>305</th>\n",
       "      <td>gracias</td>\n",
       "      <td>positive</td>\n",
       "      <td>1</td>\n",
       "    </tr>\n",
       "    <tr>\n",
       "      <th>339</th>\n",
       "      <td>foto</td>\n",
       "      <td>positive</td>\n",
       "      <td>1</td>\n",
       "    </tr>\n",
       "    <tr>\n",
       "      <th>349</th>\n",
       "      <td>gracias</td>\n",
       "      <td>positive</td>\n",
       "      <td>1</td>\n",
       "    </tr>\n",
       "    <tr>\n",
       "      <th>365</th>\n",
       "      <td>ojeras</td>\n",
       "      <td>positive</td>\n",
       "      <td>1</td>\n",
       "    </tr>\n",
       "    <tr>\n",
       "      <th>405</th>\n",
       "      <td>cheerdancer</td>\n",
       "      <td>positive</td>\n",
       "      <td>1</td>\n",
       "    </tr>\n",
       "  </tbody>\n",
       "</table>\n",
       "</div>"
      ],
      "text/plain": [
       "              tweet sentiment  number of words\n",
       "38           buenas  positive                1\n",
       "52           severo  positive                1\n",
       "57   nochesitaaaaaa  positive                1\n",
       "71        bieeeennn  positive                1\n",
       "147          futbol  positive                1\n",
       "219          buenas  positive                1\n",
       "228            hoam  positive                1\n",
       "264       marchando  positive                1\n",
       "271            bina  positive                1\n",
       "275         gracias  positive                1\n",
       "305         gracias  positive                1\n",
       "339            foto  positive                1\n",
       "349         gracias  positive                1\n",
       "365          ojeras  positive                1\n",
       "405     cheerdancer  positive                1"
      ]
     },
     "execution_count": 17,
     "metadata": {},
     "output_type": "execute_result"
    }
   ],
   "source": [
    "df_labeled_processed[df_labeled_processed['number of words'] == 1].head(15)"
   ]
  },
  {
   "cell_type": "markdown",
   "metadata": {},
   "source": [
    "Let's go ahead and just drop the longest tweet since it doesn't actually contain any real words and that way we can also make the xticks in the histogram easier to read. We'll hang on to the one word tweets, because they are still useful for determining sentiments. Also, it looks like there are some duplicate tweets, let's see how many."
   ]
  },
  {
   "cell_type": "code",
   "execution_count": 18,
   "metadata": {},
   "outputs": [],
   "source": [
    "# drop longest tweet with no real words\n",
    "df_labeled_processed.drop([24948],axis=0,inplace=True)"
   ]
  },
  {
   "cell_type": "code",
   "execution_count": 19,
   "metadata": {},
   "outputs": [
    {
     "name": "stdout",
     "output_type": "stream",
     "text": [
      "There are 17156 duplicate Tweets.\n"
     ]
    }
   ],
   "source": [
    "duplicates = len(df_labeled_processed['tweet']) - len(set(df_labeled_processed['tweet']))\n",
    "print('There are {} duplicate Tweets.'.format(duplicates))"
   ]
  },
  {
   "cell_type": "markdown",
   "metadata": {},
   "source": [
    "Looks like there are quite a bit of duplicate tweets. We should remove them to eliminate noise when fitting the models, but first lets lemmatize the tweets, as this will likely produce more duplicates."
   ]
  },
  {
   "cell_type": "markdown",
   "metadata": {},
   "source": [
    "## Lemmatize Tweets"
   ]
  },
  {
   "cell_type": "markdown",
   "metadata": {},
   "source": [
    "First we'll create a dictionary with all the lemmatization pairs which we'll use to replace words with their root form."
   ]
  },
  {
   "cell_type": "code",
   "execution_count": 20,
   "metadata": {},
   "outputs": [],
   "source": [
    "lemma_dict = {}\n",
    "with open('../data/raw/lemmatization-es.txt', 'r', buffering=1000, encoding='utf-8-sig') as f:\n",
    "#    head = [next(f) for x in range(10)]\n",
    "    for line in f:\n",
    "        key = line.split()[1]\n",
    "        value = line.split()[0]\n",
    "#        print(key , value)\n",
    "        if key in lemma_dict:\n",
    "            lemma_dict[key].append(value)\n",
    "        else:\n",
    "            lemma_dict[key] = [value]"
   ]
  },
  {
   "cell_type": "markdown",
   "metadata": {},
   "source": [
    "### Fix common replacement mistakes using top 500 Spanish words\n",
    "\n",
    "When lemmatizing the words we want to prevent replacing common words with verbs that have a conjugated tense with the same spelling. For example, the Spanish word 'como' is often used to mean 'like'/'as' in English but can also be the first person present tense of 'comer' which means to eat which a lot less common and a different meaning all together. To prevent Word2Vec to incorrectly learn the context of the most common words like this when are they are used we'll ignore these words when lemmatizing the text. First let's make a list of the most common words, and then we can make sure to select the right lemmatization pair, or ignore the word when lemmatizing the text. For this implementation we will only consider words that appear more than 500 times in our dataset of Tweets."
   ]
  },
  {
   "cell_type": "code",
   "execution_count": 21,
   "metadata": {},
   "outputs": [],
   "source": [
    "common_words = []\n",
    "with open('../data/raw/500_most_common_words.txt', 'r') as f:\n",
    "    for line in f:\n",
    "        common_words.append(line.split()[1])"
   ]
  },
  {
   "cell_type": "code",
   "execution_count": 22,
   "metadata": {},
   "outputs": [],
   "source": [
    "def count_occ(word):\n",
    "    '''returns the number of times \"word\" appears in df_labeled_processed'''\n",
    "    count = 0\n",
    "    un_tweets = []\n",
    "    for tweet in list(df_labeled_processed['tweet']):\n",
    "        if ' ' + word + ' ' in tweet:\n",
    "            count += 1\n",
    "            un_tweets.append(tweet)\n",
    "    return count"
   ]
  },
  {
   "cell_type": "code",
   "execution_count": 23,
   "metadata": {},
   "outputs": [],
   "source": [
    "def find_replacements(list_of_words):\n",
    "    ''' assert list of words unique, list_of_words must contain unique values'''\n",
    "    words_dict = {}\n",
    "    for word in tqdm(list_of_words):\n",
    "        if word in lemma_dict:\n",
    "            words_dict[word] = lemma_dict[word]\n",
    "    return words_dict"
   ]
  },
  {
   "cell_type": "code",
   "execution_count": 24,
   "metadata": {},
   "outputs": [
    {
     "data": {
      "application/vnd.jupyter.widget-view+json": {
       "model_id": "fd1a1285becf441490fb9935134e21a7",
       "version_major": 2,
       "version_minor": 0
      },
      "text/plain": [
       "HBox(children=(IntProgress(value=0, max=500), HTML(value='')))"
      ]
     },
     "metadata": {},
     "output_type": "display_data"
    },
    {
     "name": "stdout",
     "output_type": "stream",
     "text": [
      "\n"
     ]
    }
   ],
   "source": [
    "# create a dictionary that has replacements \n",
    "common_words_dict = find_replacements(common_words)"
   ]
  },
  {
   "cell_type": "code",
   "execution_count": 25,
   "metadata": {},
   "outputs": [
    {
     "data": {
      "application/vnd.jupyter.widget-view+json": {
       "model_id": "0b703a0c12cc43f5b51e5f03ba0e80f8",
       "version_major": 2,
       "version_minor": 0
      },
      "text/plain": [
       "HBox(children=(IntProgress(value=0, max=272), HTML(value='')))"
      ]
     },
     "metadata": {},
     "output_type": "display_data"
    },
    {
     "name": "stdout",
     "output_type": "stream",
     "text": [
      "\n"
     ]
    }
   ],
   "source": [
    "common_verbs_dict = common_words_dict.copy()\n",
    "for key in tqdm(common_words_dict):\n",
    "    verbs = []\n",
    "    for word in common_words_dict[key]:\n",
    "        if word[-1:] == 'r':\n",
    "            verbs.append(True)\n",
    "        else:\n",
    "            verbs.append(False)\n",
    "    if True in verbs and count_occ(key) > 500 and len(common_words_dict[key]):\n",
    "        pass\n",
    "    else:\n",
    "        common_verbs_dict.pop(key, None)"
   ]
  },
  {
   "cell_type": "code",
   "execution_count": 26,
   "metadata": {},
   "outputs": [
    {
     "data": {
      "text/plain": [
       "{'es': ['ser'],\n",
       " 'una': ['unir', 'uno'],\n",
       " 'para': ['parar', 'parir'],\n",
       " 'está': ['estar'],\n",
       " 'como': ['comer'],\n",
       " 'hay': ['haber'],\n",
       " 'estoy': ['estar'],\n",
       " 'tengo': ['tener'],\n",
       " 'ha': ['haber'],\n",
       " 'vamos': ['ir'],\n",
       " 'soy': ['ser'],\n",
       " 'puedo': ['poder'],\n",
       " 'quiero': ['querer'],\n",
       " 'tiene': ['tener'],\n",
       " 'fue': ['ir', 'ser'],\n",
       " 'son': ['ser'],\n",
       " 'he': ['haber'],\n",
       " 'era': ['erar', 'ser'],\n",
       " 'eres': ['erar', 'ere', 'ser'],\n",
       " 'así': ['asir'],\n",
       " 'sé': ['saber', 'ser'],\n",
       " 'tienes': ['tener'],\n",
       " 'creo': ['crear', 'creer'],\n",
       " 'puede': ['poder'],\n",
       " 'voy': ['ir'],\n",
       " 'nada': ['nadar'],\n",
       " 'estaba': ['estar'],\n",
       " 'están': ['estar'],\n",
       " 'va': ['ir'],\n",
       " 'sabes': ['saber'],\n",
       " 'hace': ['hacer'],\n",
       " 'puedes': ['poder'],\n",
       " 'siento': ['sentar', 'sentir'],\n",
       " 'uno': ['unir'],\n",
       " 'quiere': ['querer'],\n",
       " 'vas': ['ir'],\n",
       " 'sea': ['ser'],\n",
       " 'casa': ['casar'],\n",
       " 'cosas': ['cosa', 'coser'],\n",
       " 'necesito': ['necesitar'],\n",
       " 'tienen': ['tener'],\n",
       " 'dice': ['decir'],\n",
       " 'gusta': ['gustar'],\n",
       " 'pasa': ['pasar', 'paso'],\n",
       " 'quería': ['querer'],\n",
       " 'van': ['ir'],\n",
       " 'veo': ['ver'],\n",
       " 'haciendo': ['hacendar', 'hacer'],\n",
       " 'amigo': ['amigar'],\n",
       " 'haces': ['hacer', 'haz'],\n",
       " 'deja': ['dejar'],\n",
       " 'da': ['dar'],\n",
       " 'espero': ['esperar'],\n",
       " 'iba': ['ir'],\n",
       " 'vi': ['ver'],\n",
       " 'cuenta': ['contar'],\n",
       " 'hago': ['hacer'],\n",
       " 'personas': ['persona', 'personar'],\n",
       " 'tarde': ['tardar'],\n",
       " 'persona': ['personar'],\n",
       " 'paso': ['pasar']}"
      ]
     },
     "execution_count": 26,
     "metadata": {},
     "output_type": "execute_result"
    }
   ],
   "source": [
    "common_verbs_dict"
   ]
  },
  {
   "cell_type": "markdown",
   "metadata": {},
   "source": [
    "Examining the common_verbs_dict we create lists of words to ignore, or replace with the second or third entry respectively. Now let's go ahead and lemmatize the text."
   ]
  },
  {
   "cell_type": "code",
   "execution_count": 27,
   "metadata": {},
   "outputs": [
    {
     "data": {
      "application/vnd.jupyter.widget-view+json": {
       "model_id": "6f6bc04e7fd64cba88fd3580ad48a896",
       "version_major": 2,
       "version_minor": 0
      },
      "text/plain": [
       "HBox(children=(IntProgress(value=0, max=177515), HTML(value='')))"
      ]
     },
     "metadata": {},
     "output_type": "display_data"
    },
    {
     "name": "stdout",
     "output_type": "stream",
     "text": [
      "\n"
     ]
    }
   ],
   "source": [
    "labeled_tweets = [tweet.split() for tweet in list(df_labeled_processed['tweet'])]\n",
    "\n",
    "ignored = ['nos', 'como', 'para', 'así', 'casa', 'uno']\n",
    "select_second = ['una', 'era', 'eran', 'creo', 'seinto', 'haciendo']\n",
    "select_third = ['eres']\n",
    "\n",
    "for tweet in tqdm(labeled_tweets):\n",
    "    for index, word in enumerate(tweet):\n",
    "        if word in lemma_dict.keys():\n",
    "            if word in ignored:\n",
    "                continue\n",
    "            elif word in select_second:\n",
    "                tweet[index] = lemma_dict[word][1]\n",
    "            elif word in select_third:\n",
    "                tweet[index] = lemma_dict[word][2]\n",
    "            else:\n",
    "                tweet[index] = lemma_dict[word][0]\n",
    "                    \n",
    "lemmatized_tweets = [' '.join(tweet) for tweet in labeled_tweets]"
   ]
  },
  {
   "cell_type": "markdown",
   "metadata": {},
   "source": [
    "Let's compare the tweets before and after the lemmatization."
   ]
  },
  {
   "cell_type": "code",
   "execution_count": 28,
   "metadata": {},
   "outputs": [
    {
     "data": {
      "text/plain": [
       "['se imaginan a los chicos agradeciendo por el premio con cara de orgullo que bonito one direction',\n",
       " 'eclesiastes4 siempre promesa',\n",
       " 'qué saborío pj ya no compartes ni un gintonic con nosotros',\n",
       " 'buenos dias para todos feliz inicio de semana',\n",
       " 'gracias no es así deja claro que es el 100 de aquí']"
      ]
     },
     "execution_count": 28,
     "metadata": {},
     "output_type": "execute_result"
    }
   ],
   "source": [
    "df_labeled_processed['tweet'].head().tolist()"
   ]
  },
  {
   "cell_type": "code",
   "execution_count": 29,
   "metadata": {
    "scrolled": true
   },
   "outputs": [
    {
     "data": {
      "text/plain": [
       "['se imaginar a el chico agradecer por el premiar con caro de orgullo que bonito one direction',\n",
       " 'eclesiastes4 siempre promesa',\n",
       " 'qué saborío pj ya no comparte ni uno gintonic con nosotros',\n",
       " 'bueno dias para todo feliz iniciar de semana',\n",
       " 'gracia no ser así dejar claro que ser el 100 de aquí']"
      ]
     },
     "execution_count": 29,
     "metadata": {},
     "output_type": "execute_result"
    }
   ],
   "source": [
    "lemmatized_tweets[0:5]"
   ]
  },
  {
   "cell_type": "markdown",
   "metadata": {},
   "source": [
    "You can see how the verbs in the tweets got changed to their infinitive form, and pronouns are converted as well. Now let's update the dataframe with the lemmatized Tweets and remove duplicates."
   ]
  },
  {
   "cell_type": "code",
   "execution_count": 30,
   "metadata": {},
   "outputs": [],
   "source": [
    "# update 'tweets' series in df_labeled_processed with the lemmatized tweets\n",
    "df_labeled_processed['tweet'] = lemmatized_tweets"
   ]
  },
  {
   "cell_type": "code",
   "execution_count": 31,
   "metadata": {},
   "outputs": [
    {
     "name": "stdout",
     "output_type": "stream",
     "text": [
      "There are 18154 duplicate Tweets.\n"
     ]
    }
   ],
   "source": [
    "# count duplicates\n",
    "duplicates = len(df_labeled_processed['tweet']) - len(set(df_labeled_processed['tweet']))\n",
    "print('There are {} duplicate Tweets.'.format(duplicates))"
   ]
  },
  {
   "cell_type": "code",
   "execution_count": 32,
   "metadata": {},
   "outputs": [],
   "source": [
    "# remove duplicates\n",
    "df_labeled_processed.drop_duplicates(subset=['tweet'], inplace=True)"
   ]
  },
  {
   "cell_type": "code",
   "execution_count": 33,
   "metadata": {},
   "outputs": [],
   "source": [
    "# write to csv file for later analysis\n",
    "df_labeled_processed.to_csv('../data/processed/labeled_tweets.csv', index=False)"
   ]
  },
  {
   "cell_type": "markdown",
   "metadata": {},
   "source": [
    "Let's take another look now at the histograms of the lengths of tweets after preprocessing, and the statstics for each class."
   ]
  },
  {
   "cell_type": "code",
   "execution_count": 48,
   "metadata": {},
   "outputs": [
    {
     "name": "stdout",
     "output_type": "stream",
     "text": [
      "Positive Tweets:\n",
      "       number of words\n",
      "count     45088.000000\n",
      "mean          9.612935\n",
      "std           5.872260\n",
      "min           1.000000\n",
      "25%           5.000000\n",
      "50%           8.000000\n",
      "75%          13.000000\n",
      "max          36.000000\n",
      "Negative Tweets\n",
      "       number of words\n",
      "count    114273.000000\n",
      "mean          9.328932\n",
      "std           5.763880\n",
      "min           1.000000\n",
      "25%           5.000000\n",
      "50%           8.000000\n",
      "75%          13.000000\n",
      "max          34.000000\n"
     ]
    },
    {
     "data": {
      "image/png": "[encoded data removed]",
      "text/plain": [
       "<Figure size 1440x576 with 2 Axes>"
      ]
     },
     "metadata": {
      "needs_background": "light"
     },
     "output_type": "display_data"
    }
   ],
   "source": [
    "a = df_labeled_processed[df_labeled_processed['sentiment'] == 'positive'].describe()\n",
    "b = df_labeled_processed[df_labeled_processed['sentiment'] == 'negative'].describe()\n",
    "print('Positive Tweets:')\n",
    "print(a)\n",
    "print('Negative Tweets')\n",
    "print(b)\n",
    "plot_hists(df_labeled_processed, 'number of words')"
   ]
  },
  {
   "cell_type": "markdown",
   "metadata": {},
   "source": [
    "Aside from the total count of Tweets, looks like distributions and stats are quite similar between classes. "
   ]
  },
  {
   "cell_type": "markdown",
   "metadata": {},
   "source": [
    "## Word2Vec tweets, unlabeled tweets and labeled tweets for training\n",
    "\n",
    "Now let's create our dataset to train our Word2Vec model on. For this we will use all of the unlabeled Tweets, as well as the training set of labeled Tweets for our sentiment classifiers."
   ]
  },
  {
   "cell_type": "code",
   "execution_count": 35,
   "metadata": {},
   "outputs": [],
   "source": [
    "# creating train set for Word2Vec model\n",
    "df_labeled_train, df_labeled_test = train_test_split(df_labeled_processed, test_size=0.2, random_state=7)"
   ]
  },
  {
   "cell_type": "markdown",
   "metadata": {},
   "source": [
    "Let's take a look at the length of Tweets for the unlabeled Tweets and repeat the same preprocessing and lemmatization as before with the labeled Tweets."
   ]
  },
  {
   "cell_type": "code",
   "execution_count": 36,
   "metadata": {},
   "outputs": [
    {
     "data": {
      "image/png": "[encoded data removed]",
      "text/plain": [
       "<Figure size 1152x576 with 1 Axes>"
      ]
     },
     "metadata": {
      "needs_background": "light"
     },
     "output_type": "display_data"
    }
   ],
   "source": [
    "tweet_lengths = [len(tweet) for tweet in df_unlabeled_processed['tweet'].apply(lambda x: x.split())]\n",
    "df_unlabeled_processed['number of words'] = tweet_lengths\n",
    "\n",
    "bins = np.arange(0,max(tweet_lengths)) - 0.5\n",
    "plt.figure(figsize=(16, 8))\n",
    "sns.distplot(tweet_lengths, kde=False, bins=bins, hist_kws=dict(edgecolor=\"k\", linewidth=2))\n",
    "plt.xlim(left=-0.5,right=max(tweet_lengths))\n",
    "plt.xticks(np.array(range(0,max(tweet_lengths))))\n",
    "plt.xlabel('Number of Words')\n",
    "plt.ylabel('Number of Tweets')\n",
    "plt.title('Histogram of Length of Unlabeled Tweets in Number of Words')\n",
    "plt.show()"
   ]
  },
  {
   "cell_type": "code",
   "execution_count": 37,
   "metadata": {},
   "outputs": [
    {
     "name": "stdout",
     "output_type": "stream",
     "text": [
      "Removed 10 empty Tweets.\n"
     ]
    }
   ],
   "source": [
    "# count and remove empty Tweets\n",
    "empty_tweets = len(df_unlabeled_processed[df_unlabeled_processed['number of words'] == 0])\n",
    "df_unlabeled_processed['tweet'].replace('', np.nan, inplace=True)\n",
    "df_unlabeled_processed.dropna(subset=['tweet'], inplace=True)\n",
    "print('Removed {} empty Tweets.'.format(empty_tweets))"
   ]
  },
  {
   "cell_type": "code",
   "execution_count": 38,
   "metadata": {},
   "outputs": [
    {
     "data": {
      "application/vnd.jupyter.widget-view+json": {
       "model_id": "35cb637b974141f2bcef6b7c2f4d2694",
       "version_major": 2,
       "version_minor": 0
      },
      "text/plain": [
       "HBox(children=(IntProgress(value=0, max=10), HTML(value='')))"
      ]
     },
     "metadata": {},
     "output_type": "display_data"
    },
    {
     "name": "stdout",
     "output_type": "stream",
     "text": [
      "\n"
     ]
    }
   ],
   "source": [
    "# lemmatize Tweets\n",
    "word2vec_tweets = [tweet.split() for tweet in list(df_unlabeled_processed['tweet'])]\n",
    "\n",
    "ignored = ['nos', 'como', 'para', 'así', 'casa', 'uno']\n",
    "select_second = ['una', 'era', 'eran', 'creo', 'seinto', 'haciendo']\n",
    "select_third = ['eres']\n",
    "\n",
    "for tweet in tqdm(word2vec_tweets[:10]):\n",
    "    for index, word in enumerate(tweet):\n",
    "        if word in lemma_dict.keys():\n",
    "            if word in ignored:\n",
    "                continue\n",
    "            elif word in select_second:\n",
    "                tweet[index] = lemma_dict[word][1]\n",
    "            elif word in select_third:\n",
    "                tweet[index] = lemma_dict[word][2]\n",
    "            else:\n",
    "                tweet[index] = lemma_dict[word][0]\n",
    "                    \n",
    "lemmatized_tweets = [' '.join(tweet) for tweet in word2vec_tweets]"
   ]
  },
  {
   "cell_type": "code",
   "execution_count": 39,
   "metadata": {},
   "outputs": [
    {
     "data": {
      "text/plain": [
       "['quieres saber cómo hacer una aplicación para android wear te lo explicamos gt',\n",
       " 'a veer que tal',\n",
       " 'jajaja como les encanta trolear cuando alguno no se conecta jajaja',\n",
       " 'mirando los simpson',\n",
       " 'tu teléfono android permanecerá desbloqueado mientras lo lleves encima']"
      ]
     },
     "execution_count": 39,
     "metadata": {},
     "output_type": "execute_result"
    }
   ],
   "source": [
    "# Tweets before lemmatization\n",
    "df_unlabeled_processed['tweet'].head().tolist()"
   ]
  },
  {
   "cell_type": "code",
   "execution_count": 40,
   "metadata": {},
   "outputs": [
    {
     "data": {
      "text/plain": [
       "['querer saber cómo hacer uno aplicación para android wear te el explicar gt',\n",
       " 'a veer que tal',\n",
       " 'jajaja como les encantar trolear cuando alguno no se conectar jajaja',\n",
       " 'mirar el simpson',\n",
       " 'tu teléfono android permanecer desbloquear mientras el llevar encimar']"
      ]
     },
     "execution_count": 40,
     "metadata": {},
     "output_type": "execute_result"
    }
   ],
   "source": [
    "# Tweets after lemmatization\n",
    "lemmatized_tweets[:5]"
   ]
  },
  {
   "cell_type": "markdown",
   "metadata": {},
   "source": [
    "Now let's update the dataframe with the lemmatized Tweets and remove any duplicates."
   ]
  },
  {
   "cell_type": "code",
   "execution_count": 41,
   "metadata": {},
   "outputs": [
    {
     "name": "stdout",
     "output_type": "stream",
     "text": [
      "6122 duplicate Tweets removed.\n"
     ]
    }
   ],
   "source": [
    "# update Tweets in dataframe\n",
    "df_unlabeled_processed['tweet'] = lemmatized_tweets\n",
    "\n",
    "# count and drop duplicates\n",
    "duplicates = len(df_unlabeled_processed['tweet']) - len(set(df_unlabeled_processed['tweet']))\n",
    "df_unlabeled_processed.drop_duplicates(subset=['tweet'], inplace=True)\n",
    "\n",
    "print('{} duplicate Tweets removed.'.format(duplicates))"
   ]
  },
  {
   "cell_type": "code",
   "execution_count": 42,
   "metadata": {},
   "outputs": [
    {
     "name": "stdout",
     "output_type": "stream",
     "text": [
      "Unlabeled Tweets:\n",
      "count    64602.000000\n",
      "mean        11.864323\n",
      "std          5.911076\n",
      "min          1.000000\n",
      "25%          7.000000\n",
      "50%         11.000000\n",
      "75%         16.000000\n",
      "max         58.000000\n",
      "Name: number of words, dtype: float64\n"
     ]
    },
    {
     "data": {
      "image/png": "[encoded data removed]",
      "text/plain": [
       "<Figure size 1152x576 with 1 Axes>"
      ]
     },
     "metadata": {
      "needs_background": "light"
     },
     "output_type": "display_data"
    }
   ],
   "source": [
    "tweet_lengths = [len(tweet) for tweet in df_unlabeled_processed['tweet'].apply(lambda x: x.split())]\n",
    "df_unlabeled_processed['number of words'] = tweet_lengths\n",
    "\n",
    "print('Unlabeled Tweets:')\n",
    "print(df_unlabeled_processed['number of words'].describe())\n",
    "bins = np.arange(0,max(tweet_lengths)) - 0.5\n",
    "plt.figure(figsize=(16, 8))\n",
    "sns.distplot(tweet_lengths, kde=False, bins=bins, hist_kws=dict(edgecolor=\"k\", linewidth=2))\n",
    "plt.xlim(left=-0.5,right=max(tweet_lengths))\n",
    "plt.xticks(np.array(range(0,max(tweet_lengths))))\n",
    "plt.xlabel('Number of Words')\n",
    "plt.ylabel('Number of Tweets')\n",
    "plt.title('Histogram of Length of Unlabeled Tweets in Number of Words')\n",
    "plt.show()"
   ]
  },
  {
   "cell_type": "markdown",
   "metadata": {},
   "source": [
    "Interesting, looks like the unlabeled Tweets are a couple words longer on average than the labeled Tweets. Now we can concatenate the unlabeled Tweets with our training set of of labeled tweets to create the dataset we will use to train our Word2Vec model."
   ]
  },
  {
   "cell_type": "code",
   "execution_count": 43,
   "metadata": {},
   "outputs": [],
   "source": [
    "# create concatenated DF \n",
    "df_tweets = pd.concat([df_unlabeled_processed, df_labeled_train], axis=0, sort=True, ignore_index=True)"
   ]
  },
  {
   "cell_type": "code",
   "execution_count": 44,
   "metadata": {},
   "outputs": [
    {
     "data": {
      "application/vnd.jupyter.widget-view+json": {
       "model_id": "2ba683b01a8441588f91a7ae68499dec",
       "version_major": 2,
       "version_minor": 0
      },
      "text/plain": [
       "HBox(children=(IntProgress(value=0, max=192090), HTML(value='')))"
      ]
     },
     "metadata": {},
     "output_type": "display_data"
    },
    {
     "name": "stdout",
     "output_type": "stream",
     "text": [
      "\n"
     ]
    }
   ],
   "source": [
    "# write Tweets from concatenated DF to text file for training our Word2Vec model\n",
    "with open('../data/processed/word2vec_tweets.txt', 'w') as f:\n",
    "    for tweet in tqdm(df_tweets['tweet']):\n",
    "        f.write(str(tweet) + '\\n')"
   ]
  },
  {
   "cell_type": "markdown",
   "metadata": {},
   "source": [
    "And that concludes our preprocessing of the data!"
   ]
  }
 ],
 "metadata": {
  "kernelspec": {
   "display_name": "sentimentAnalysisDEV",
   "language": "python",
   "name": "sentimentanalysisdev"
  },
  "language_info": {
   "codemirror_mode": {
    "name": "ipython",
    "version": 3
   },
   "file_extension": ".py",
   "mimetype": "text/x-python",
   "name": "python",
   "nbconvert_exporter": "python",
   "pygments_lexer": "ipython3",
   "version": "3.6.7"
  }
 },
 "nbformat": 4,
 "nbformat_minor": 2
}
